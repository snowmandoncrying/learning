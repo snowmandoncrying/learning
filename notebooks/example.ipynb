{
 "cells": [
  {
   "cell_type": "markdown",
   "metadata": {},
   "source": ["# 딥러닝 예제 노트북", "", "이 노트북은 기본적인 딥러닝 예제를 포함하고 있습니다."]
  },
  {
   "cell_type": "code",
   "execution_count": null,
   "metadata": {},
   "outputs": [],
   "source": ["import torch\nimport numpy as np\nimport matplotlib.pyplot as plt"]
  }
 ]
}